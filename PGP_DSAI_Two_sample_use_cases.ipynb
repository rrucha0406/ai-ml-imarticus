{
 "cells": [
  {
   "cell_type": "markdown",
   "id": "889b71a3",
   "metadata": {},
   "source": [
    "## Testing the Effect of a Drug on Blood Pressure"
   ]
  },
  {
   "cell_type": "markdown",
   "id": "66314c2d",
   "metadata": {},
   "source": [
    "A researcher wants to test whether a new drug has a significant effect on lowering blood pressure. The researcher measures the blood pressure of two groups of people: one group takes the drug, and the other group takes a placebo. The blood pressures are recorded, and the researcher wants to compare the means of the two groups.\n",
    "\n",
    "Group A (Drug): [120, 125, 118, 130, 122, 115, 119]\n",
    "    \n",
    "Group B (Placebo): [132, 128, 135, 140, 138, 136, 130]\n",
    "\n",
    "Test whether the average blood pressure is different between the two groups"
   ]
  },
  {
   "cell_type": "code",
   "execution_count": null,
   "id": "9109df78",
   "metadata": {},
   "outputs": [],
   "source": []
  },
  {
   "cell_type": "code",
   "execution_count": null,
   "id": "0034a4fd",
   "metadata": {},
   "outputs": [],
   "source": []
  },
  {
   "cell_type": "markdown",
   "id": "64306a9a",
   "metadata": {},
   "source": [
    "A company wants to compare the average monthly sales of two of its stores over the last year. The sales (in $1000s) for store A and store B are recorded as:\n",
    "\n",
    "Store A: [200, 210, 195, 220, 205, 215, 190, 225, 210, 200, 215, 205]\n",
    "    \n",
    "Store B: [180, 190, 185, 200, 195, 185, 210, 195, 200, 190, 205, 195]\n",
    "    \n",
    "Test whether the average monthly sales are significantly different between the two stores."
   ]
  },
  {
   "cell_type": "code",
   "execution_count": null,
   "id": "98f36890",
   "metadata": {},
   "outputs": [],
   "source": []
  },
  {
   "cell_type": "code",
   "execution_count": null,
   "id": "63f37510",
   "metadata": {},
   "outputs": [],
   "source": []
  },
  {
   "cell_type": "markdown",
   "id": "42898f2e",
   "metadata": {},
   "source": [
    "## Evaluating the Effectiveness of a Weight Loss Program\n",
    "\n",
    "A nutritionist wants to determine if a specific weight loss program is effective. A group of individuals is weighed at the beginning of the program and again after following the program for three months. The nutritionist collects the weight measurements to compare the two conditions.\n",
    "\n",
    "Initial Weights (kg): [85, 88, 75, 90, 95, 80, 85, 86, 87, 89]\n",
    "    \n",
    "Post-Program Weights (kg): [80, 85, 73, 88, 90, 78, 82, 83, 84, 86]\n",
    "    \n",
    "Test whether the weight loss program results in a statistically significant reduction in weight."
   ]
  },
  {
   "cell_type": "code",
   "execution_count": null,
   "id": "b2a692f9",
   "metadata": {},
   "outputs": [],
   "source": []
  },
  {
   "cell_type": "code",
   "execution_count": null,
   "id": "fb2ceb5e",
   "metadata": {},
   "outputs": [],
   "source": []
  },
  {
   "cell_type": "markdown",
   "id": "bbe88222",
   "metadata": {},
   "source": [
    "## Effect of a New Training Regimen on Athletic Performance\n",
    "A sports coach wants to know if a new training regimen has improved the performance of a group of athletes. The athletes' performance is measured using two metrics: once during the standard training regimen and once after using the new training regimen.\n",
    "\n",
    "Standard Training: [12.5, 13.0, 11.8, 12.2, 12.7, 13.1]\n",
    "\n",
    "New Training: [11.8, 12.3, 11.2, 11.9, 12.1, 12.5]\n",
    "\n",
    "Test whether the new training regimen significantly improves athletic performance."
   ]
  },
  {
   "cell_type": "code",
   "execution_count": null,
   "id": "fa0a5485",
   "metadata": {},
   "outputs": [],
   "source": []
  },
  {
   "cell_type": "code",
   "execution_count": null,
   "id": "39f3c40c",
   "metadata": {},
   "outputs": [],
   "source": []
  },
  {
   "cell_type": "markdown",
   "id": "769504d2",
   "metadata": {},
   "source": [
    "## Titan Case study"
   ]
  },
  {
   "cell_type": "markdown",
   "id": "46118e2b",
   "metadata": {},
   "source": [
    "The Titan Insurance Company has just installed a new incentive payment scheme for its life policy sales-force. It wants to have an early view of the success or failure of the new scheme. Indications are that the sales force is selling more policies but sales always vary in an unpredictable pattern from month to month and it is not clear that the scheme has made a significant difference. Life Insurance companies typically measure the monthly output of a salesperson as the total sum assured for the policies sold by that person during the month.\n",
    "\n",
    "Titan's new scheme is that the sales force receive low regular salaries but are paid large bonuses related to their output (i.e. to the total sum assured of policies sold by them). The scheme is expensive for the company but they are looking for sales increases to compensate for it. The scheme has now been in operation for four months. It has settled down after fluctuations in the first two months due to the changeover.\n",
    "\n",
    "To test the effectiveness of the scheme, Titan has taken a random sample of 30 salespeople measured their output in the penultimate month prior to changeover and then measured it in the fourth month after the changeover (they have deliberately chosen months not too close to the changeover).\n",
    "\n",
    "At the 0.05 level of significance, can we are required to statistically conclude that the new incentive scheme has led to a significant increase in the monthly sales output of the salesforce?"
   ]
  },
  {
   "cell_type": "code",
   "execution_count": null,
   "id": "0ac57814",
   "metadata": {},
   "outputs": [],
   "source": [
    "# Beta-- Type 2 error"
   ]
  },
  {
   "cell_type": "code",
   "execution_count": null,
   "id": "6bd67779",
   "metadata": {},
   "outputs": [],
   "source": [
    "# ANOVA - One Way or Two Way"
   ]
  },
  {
   "cell_type": "code",
   "execution_count": null,
   "id": "8a311184",
   "metadata": {},
   "outputs": [],
   "source": [
    "# Chi- square"
   ]
  },
  {
   "cell_type": "code",
   "execution_count": null,
   "id": "16362888",
   "metadata": {},
   "outputs": [],
   "source": []
  }
 ],
 "metadata": {
  "kernelspec": {
   "display_name": "Python 3 (ipykernel)",
   "language": "python",
   "name": "python3"
  },
  "language_info": {
   "codemirror_mode": {
    "name": "ipython",
    "version": 3
   },
   "file_extension": ".py",
   "mimetype": "text/x-python",
   "name": "python",
   "nbconvert_exporter": "python",
   "pygments_lexer": "ipython3",
   "version": "3.11.4"
  }
 },
 "nbformat": 4,
 "nbformat_minor": 5
}
