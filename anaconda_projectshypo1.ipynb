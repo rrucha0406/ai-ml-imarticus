{
 "cells": [
  {
   "cell_type": "code",
   "execution_count": 2,
   "id": "d5ba7c0c-7a4d-4d0a-98d2-fc63e0851f67",
   "metadata": {},
   "outputs": [
    {
     "data": {
      "text/plain": [
       "'Credit card processing\\nQ1. Tom is working in a credit card processing company as a team leader.\\nHis team is responsible to validate certain data for new credit card applications. \\nThe time spent by his team on an application is normally distributed with average 300 minutes and standard deviation 40 minutes.\\nTom and his team worked on process improvement to reduce the time spent in processing new applications.\\nAfter implementing the improvements, Tom checked the time spent by his team on randomly selected 25 new card applications.\\nThe average time spent is 290 min. Tom is happy that, though it is a small improvement, it is a step in right direction. \\nHe shares the good news with his manager Lisa.\\nBut Lisa in not convinced about the improvement. At 95% confidence, is the processes really improved?'"
      ]
     },
     "execution_count": 2,
     "metadata": {},
     "output_type": "execute_result"
    }
   ],
   "source": [
    "\n"
   ]
  },
  {
   "cell_type": "code",
   "execution_count": 3,
   "id": "273e0099-aad4-4436-87f7-475d9f355803",
   "metadata": {},
   "outputs": [],
   "source": [
    "# the data is normally distributed"
   ]
  },
  {
   "cell_type": "code",
   "execution_count": 16,
   "id": "2493f098-281e-41f7-8ca9-42f0b5851f7b",
   "metadata": {},
   "outputs": [],
   "source": [
    "mu=300\n",
    "sigma=40 #population std\n",
    "xbar=290\n",
    "n=25\n",
    "SE=sigma /np.sqrt(n)\n",
    "#n<25 z test \n",
    "#sd is same as standard error or SE\n"
   ]
  },
  {
   "cell_type": "code",
   "execution_count": 10,
   "id": "7e66aae1-c728-42d3-8f2c-c18dc44cce51",
   "metadata": {},
   "outputs": [],
   "source": [
    "#one sample test \n",
    "#toms tryna prove ki mu<300 but it was mu>=300\n",
    "#h0=mu>=300\n",
    "#ha=mu<300"
   ]
  },
  {
   "cell_type": "code",
   "execution_count": 11,
   "id": "63dcdbb2-6a67-475b-9b71-b2362be4554b",
   "metadata": {},
   "outputs": [],
   "source": [
    "#one tailed or two tailed?\n",
    "#left tail ----one tail if ha<mu\n",
    "#right tail----one tail if ha>mu\n",
    "#twotail if ha!=mu\n",
    "##-------one tail left tail on comparing "
   ]
  },
  {
   "cell_type": "code",
   "execution_count": 12,
   "id": "ef8e5b0d-bc97-4378-87ab-33ca648ecf3d",
   "metadata": {},
   "outputs": [],
   "source": [
    "#finding the Xcritical value\n",
    "#approach 1:\n"
   ]
  },
  {
   "cell_type": "code",
   "execution_count": null,
   "id": "0061ae30-c41c-4d8f-9699-0d11d2fa94e0",
   "metadata": {},
   "outputs": [],
   "source": [
    "#significance level?\n",
    " alpha =0.05 #as confidence is 95 therefore significance =1-0.95"
   ]
  },
  {
   "cell_type": "code",
   "execution_count": 14,
   "id": "a1bc5448-2e43-4f72-bd9b-75730e025f11",
   "metadata": {},
   "outputs": [],
   "source": [
    "import numpy as np\n",
    "import pandas as pd\n",
    "import matplotlib.pyplot as plt\n",
    "import seaborn as sns\n",
    "%matplotlib inline\n",
    "import scipy.stats as stats"
   ]
  },
  {
   "cell_type": "code",
   "execution_count": 18,
   "id": "70baf820-64c4-4dc0-b0cd-486a554aa8d0",
   "metadata": {},
   "outputs": [
    {
     "data": {
      "text/plain": [
       "np.float64(286.8411709843882)"
      ]
     },
     "execution_count": 18,
     "metadata": {},
     "output_type": "execute_result"
    }
   ],
   "source": [
    "#z distributionis variable which is continuously normally distributed\n",
    "Xcritical=stats.norm.ppf(0.05,mu,SE)\n",
    "#cdf to find the probability or the x value actual value\n",
    "Xcritical"
   ]
  },
  {
   "cell_type": "code",
   "execution_count": null,
   "id": "5a992567-01c9-416b-a52a-6d748a194e75",
   "metadata": {},
   "outputs": [],
   "source": [
    "#as the 290> 287 ,287 se kam hota toh rejection zone mein hota "
   ]
  }
 ],
 "metadata": {
  "kernelspec": {
   "display_name": "Python 3 (ipykernel)",
   "language": "python",
   "name": "python3"
  },
  "language_info": {
   "codemirror_mode": {
    "name": "ipython",
    "version": 3
   },
   "file_extension": ".py",
   "mimetype": "text/x-python",
   "name": "python",
   "nbconvert_exporter": "python",
   "pygments_lexer": "ipython3",
   "version": "3.13.5"
  }
 },
 "nbformat": 4,
 "nbformat_minor": 5
}
