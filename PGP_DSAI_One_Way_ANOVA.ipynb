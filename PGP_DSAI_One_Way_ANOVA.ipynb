{
 "cells": [
  {
   "cell_type": "markdown",
   "id": "d352cf3f",
   "metadata": {},
   "source": [
    "# Evaluating Golf Ball Design Impact on Travel Distance\n",
    "\n",
    "A sports equipment company is testing four different golf ball designs (Design 1, Design 2, Design 3 and Design 4). The company aims to determine if the ball design affects the distance the ball travels when hit under the same controlled conditions. Each ball is hit using the same type of club, by the same golfer, under similar weather conditions (same temperature, wind, humidity, etc.). For each design, 10 golf balls are tested, and the distance traveled (in yards) is recorded.\n",
    "The company wants to know whether the average distance traveled differs significantly across the four designs. This insight will help in identifying which design optimizes ball travel distance, potentially influencing production decisions.\n",
    "\n",
    "Is there a statistically significant difference in the average travel distance between the four different golf ball designs?"
   ]
  },
  {
   "cell_type": "markdown",
   "id": "e998180f",
   "metadata": {},
   "source": [
    "Data Description:\n",
    "\n",
    "Response Variable: Distance traveled by the golf ball (in yards).\n",
    "\n",
    "Factor (Independent Variable): Golf ball design with four levels (Design 1, Design 2, Design 3 and Design 4).\n",
    "\n",
    "Sample Size: 10 golf balls for each design (40 total samples).\n",
    "\n",
    "Use 'Golfball.csv'"
   ]
  },
  {
   "cell_type": "code",
   "execution_count": null,
   "id": "a770ccc0",
   "metadata": {},
   "outputs": [],
   "source": []
  },
  {
   "cell_type": "code",
   "execution_count": null,
   "id": "7e8b7160",
   "metadata": {},
   "outputs": [],
   "source": []
  },
  {
   "cell_type": "code",
   "execution_count": null,
   "id": "68043bc1",
   "metadata": {},
   "outputs": [],
   "source": []
  }
 ],
 "metadata": {
  "kernelspec": {
   "display_name": "Python 3 (ipykernel)",
   "language": "python",
   "name": "python3"
  },
  "language_info": {
   "codemirror_mode": {
    "name": "ipython",
    "version": 3
   },
   "file_extension": ".py",
   "mimetype": "text/x-python",
   "name": "python",
   "nbconvert_exporter": "python",
   "pygments_lexer": "ipython3",
   "version": "3.11.4"
  }
 },
 "nbformat": 4,
 "nbformat_minor": 5
}
